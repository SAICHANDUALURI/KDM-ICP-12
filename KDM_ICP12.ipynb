{
  "nbformat": 4,
  "nbformat_minor": 0,
  "metadata": {
    "colab": {
      "name": "KDM-ICP12.ipynb",
      "provenance": [],
      "authorship_tag": "ABX9TyOZ61gPt27jgDHwiBql5HCb",
      "include_colab_link": true
    },
    "kernelspec": {
      "name": "python3",
      "display_name": "Python 3"
    },
    "language_info": {
      "name": "python"
    },
    "accelerator": "GPU"
  },
  "cells": [
    {
      "cell_type": "markdown",
      "metadata": {
        "id": "view-in-github",
        "colab_type": "text"
      },
      "source": [
        "<a href=\"https://colab.research.google.com/github/SAICHANDUALURI/KDM-ICP-12/blob/main/KDM_ICP12.ipynb\" target=\"_parent\"><img src=\"https://colab.research.google.com/assets/colab-badge.svg\" alt=\"Open In Colab\"/></a>"
      ]
    },
    {
      "cell_type": "code",
      "metadata": {
        "id": "YNPzA9UIUgTi"
      },
      "source": [
        "import numpy as np\n",
        "import pandas as pd\n",
        "import math\n",
        "import matplotlib.pyplot as plt\n",
        "import keras\n",
        "from keras.models import Sequential\n",
        "from keras.layers import Dense, Dropout, LSTM\n",
        "from keras.callbacks import EarlyStopping"
      ],
      "execution_count": 100,
      "outputs": []
    },
    {
      "cell_type": "code",
      "metadata": {
        "colab": {
          "base_uri": "https://localhost:8080/",
          "height": 415
        },
        "id": "Piv2Tu3PUkge",
        "outputId": "0330bd96-005c-4dc2-bca3-5733c2b71724"
      },
      "source": [
        "Data = pd.read_csv('/TSLA.csv')\n",
        "Data"
      ],
      "execution_count": 101,
      "outputs": [
        {
          "output_type": "execute_result",
          "data": {
            "text/html": [
              "<div>\n",
              "<style scoped>\n",
              "    .dataframe tbody tr th:only-of-type {\n",
              "        vertical-align: middle;\n",
              "    }\n",
              "\n",
              "    .dataframe tbody tr th {\n",
              "        vertical-align: top;\n",
              "    }\n",
              "\n",
              "    .dataframe thead th {\n",
              "        text-align: right;\n",
              "    }\n",
              "</style>\n",
              "<table border=\"1\" class=\"dataframe\">\n",
              "  <thead>\n",
              "    <tr style=\"text-align: right;\">\n",
              "      <th></th>\n",
              "      <th>Date</th>\n",
              "      <th>Open</th>\n",
              "      <th>High</th>\n",
              "      <th>Low</th>\n",
              "      <th>Close</th>\n",
              "      <th>Adj Close</th>\n",
              "      <th>Volume</th>\n",
              "    </tr>\n",
              "  </thead>\n",
              "  <tbody>\n",
              "    <tr>\n",
              "      <th>0</th>\n",
              "      <td>2015-07-10</td>\n",
              "      <td>52.444000</td>\n",
              "      <td>52.599998</td>\n",
              "      <td>51.563999</td>\n",
              "      <td>51.830002</td>\n",
              "      <td>51.830002</td>\n",
              "      <td>13054500</td>\n",
              "    </tr>\n",
              "    <tr>\n",
              "      <th>1</th>\n",
              "      <td>2015-07-13</td>\n",
              "      <td>52.450001</td>\n",
              "      <td>52.509998</td>\n",
              "      <td>51.209999</td>\n",
              "      <td>52.431999</td>\n",
              "      <td>52.431999</td>\n",
              "      <td>14801500</td>\n",
              "    </tr>\n",
              "    <tr>\n",
              "      <th>2</th>\n",
              "      <td>2015-07-14</td>\n",
              "      <td>52.419998</td>\n",
              "      <td>53.198002</td>\n",
              "      <td>52.102001</td>\n",
              "      <td>53.130001</td>\n",
              "      <td>53.130001</td>\n",
              "      <td>9538000</td>\n",
              "    </tr>\n",
              "    <tr>\n",
              "      <th>3</th>\n",
              "      <td>2015-07-15</td>\n",
              "      <td>53.348000</td>\n",
              "      <td>53.498001</td>\n",
              "      <td>52.416000</td>\n",
              "      <td>52.627998</td>\n",
              "      <td>52.627998</td>\n",
              "      <td>10108000</td>\n",
              "    </tr>\n",
              "    <tr>\n",
              "      <th>4</th>\n",
              "      <td>2015-07-16</td>\n",
              "      <td>52.844002</td>\n",
              "      <td>53.439999</td>\n",
              "      <td>52.632000</td>\n",
              "      <td>53.335999</td>\n",
              "      <td>53.335999</td>\n",
              "      <td>8080000</td>\n",
              "    </tr>\n",
              "    <tr>\n",
              "      <th>...</th>\n",
              "      <td>...</td>\n",
              "      <td>...</td>\n",
              "      <td>...</td>\n",
              "      <td>...</td>\n",
              "      <td>...</td>\n",
              "      <td>...</td>\n",
              "      <td>...</td>\n",
              "    </tr>\n",
              "    <tr>\n",
              "      <th>1254</th>\n",
              "      <td>2020-07-02</td>\n",
              "      <td>244.296005</td>\n",
              "      <td>245.600006</td>\n",
              "      <td>237.119995</td>\n",
              "      <td>241.731995</td>\n",
              "      <td>241.731995</td>\n",
              "      <td>86250500</td>\n",
              "    </tr>\n",
              "    <tr>\n",
              "      <th>1255</th>\n",
              "      <td>2020-07-06</td>\n",
              "      <td>255.337997</td>\n",
              "      <td>275.558014</td>\n",
              "      <td>253.207993</td>\n",
              "      <td>274.316010</td>\n",
              "      <td>274.316010</td>\n",
              "      <td>102849500</td>\n",
              "    </tr>\n",
              "    <tr>\n",
              "      <th>1256</th>\n",
              "      <td>2020-07-07</td>\n",
              "      <td>281.002014</td>\n",
              "      <td>285.899994</td>\n",
              "      <td>267.342010</td>\n",
              "      <td>277.971985</td>\n",
              "      <td>277.971985</td>\n",
              "      <td>107448500</td>\n",
              "    </tr>\n",
              "    <tr>\n",
              "      <th>1257</th>\n",
              "      <td>2020-07-08</td>\n",
              "      <td>281.000000</td>\n",
              "      <td>283.451996</td>\n",
              "      <td>262.268005</td>\n",
              "      <td>273.175995</td>\n",
              "      <td>273.175995</td>\n",
              "      <td>81556500</td>\n",
              "    </tr>\n",
              "    <tr>\n",
              "      <th>1258</th>\n",
              "      <td>2020-07-09</td>\n",
              "      <td>279.398010</td>\n",
              "      <td>281.712006</td>\n",
              "      <td>270.256012</td>\n",
              "      <td>278.855988</td>\n",
              "      <td>278.855988</td>\n",
              "      <td>58588000</td>\n",
              "    </tr>\n",
              "  </tbody>\n",
              "</table>\n",
              "<p>1259 rows × 7 columns</p>\n",
              "</div>"
            ],
            "text/plain": [
              "            Date        Open        High  ...       Close   Adj Close     Volume\n",
              "0     2015-07-10   52.444000   52.599998  ...   51.830002   51.830002   13054500\n",
              "1     2015-07-13   52.450001   52.509998  ...   52.431999   52.431999   14801500\n",
              "2     2015-07-14   52.419998   53.198002  ...   53.130001   53.130001    9538000\n",
              "3     2015-07-15   53.348000   53.498001  ...   52.627998   52.627998   10108000\n",
              "4     2015-07-16   52.844002   53.439999  ...   53.335999   53.335999    8080000\n",
              "...          ...         ...         ...  ...         ...         ...        ...\n",
              "1254  2020-07-02  244.296005  245.600006  ...  241.731995  241.731995   86250500\n",
              "1255  2020-07-06  255.337997  275.558014  ...  274.316010  274.316010  102849500\n",
              "1256  2020-07-07  281.002014  285.899994  ...  277.971985  277.971985  107448500\n",
              "1257  2020-07-08  281.000000  283.451996  ...  273.175995  273.175995   81556500\n",
              "1258  2020-07-09  279.398010  281.712006  ...  278.855988  278.855988   58588000\n",
              "\n",
              "[1259 rows x 7 columns]"
            ]
          },
          "metadata": {
            "tags": []
          },
          "execution_count": 101
        }
      ]
    },
    {
      "cell_type": "code",
      "metadata": {
        "id": "608_eh0WXc4k"
      },
      "source": [
        "training_set = Data.iloc[:800, 1:2].values\n",
        "test_set = Data.iloc[800:, 1:2].values"
      ],
      "execution_count": 102,
      "outputs": []
    },
    {
      "cell_type": "code",
      "metadata": {
        "id": "PPgJmLNfYDiz"
      },
      "source": [
        "sc = MinMaxScaler(feature_range = (0, 1))\n",
        "training_set_scaled = sc.fit_transform(training_set)"
      ],
      "execution_count": 103,
      "outputs": []
    },
    {
      "cell_type": "code",
      "metadata": {
        "id": "PbdOlHjYYPdn"
      },
      "source": [
        "X_train = []\n",
        "y_train = []\n",
        "for i in range(60, 577):\n",
        "    X_train.append(training_set_scaled[i-60:i, 0])\n",
        "    y_train.append(training_set_scaled[i, 0])\n",
        "X_train, y_train = np.array(X_train), np.array(y_train)\n",
        "X_train = np.reshape(X_train, (X_train.shape[0], X_train.shape[1], 1))"
      ],
      "execution_count": 104,
      "outputs": []
    },
    {
      "cell_type": "code",
      "metadata": {
        "id": "FLoaVWN7YY-k"
      },
      "source": [
        "model = Sequential()\n",
        "model.add(LSTM(units = 50, return_sequences = True, input_shape = (X_train.shape[1], 1)))\n",
        "model.add(Dropout(0.2))\n",
        "model.add(LSTM(units = 50, return_sequences = True))\n",
        "model.add(Dropout(0.2))\n",
        "model.add(LSTM(units = 50, return_sequences = True))\n",
        "model.add(Dropout(0.2))\n",
        "model.add(LSTM(units = 50))\n",
        "model.add(Dropout(0.2))\n",
        "model.add(Dense(units = 1))"
      ],
      "execution_count": 105,
      "outputs": []
    },
    {
      "cell_type": "code",
      "metadata": {
        "id": "aXXZTLLBY_Rc"
      },
      "source": [
        "model.compile(optimizer = 'adam', loss = 'mean_squared_error')\n"
      ],
      "execution_count": 106,
      "outputs": []
    },
    {
      "cell_type": "code",
      "metadata": {
        "colab": {
          "base_uri": "https://localhost:8080/"
        },
        "id": "iNxHG8I8ZDcc",
        "outputId": "91861a2e-fef5-4bdd-8115-3e0a0ec34a71"
      },
      "source": [
        "model.fit(X_train, y_train, epochs = 25, batch_size = 32)\n"
      ],
      "execution_count": 107,
      "outputs": [
        {
          "output_type": "stream",
          "text": [
            "Epoch 1/25\n",
            "17/17 [==============================] - 6s 79ms/step - loss: 0.0973\n",
            "Epoch 2/25\n",
            "17/17 [==============================] - 1s 84ms/step - loss: 0.0171\n",
            "Epoch 3/25\n",
            "17/17 [==============================] - 1s 86ms/step - loss: 0.0122\n",
            "Epoch 4/25\n",
            "17/17 [==============================] - 1s 82ms/step - loss: 0.0122\n",
            "Epoch 5/25\n",
            "17/17 [==============================] - 1s 85ms/step - loss: 0.0099\n",
            "Epoch 6/25\n",
            "17/17 [==============================] - 1s 85ms/step - loss: 0.0096\n",
            "Epoch 7/25\n",
            "17/17 [==============================] - 1s 83ms/step - loss: 0.0095\n",
            "Epoch 8/25\n",
            "17/17 [==============================] - 1s 85ms/step - loss: 0.0089\n",
            "Epoch 9/25\n",
            "17/17 [==============================] - 1s 85ms/step - loss: 0.0114\n",
            "Epoch 10/25\n",
            "17/17 [==============================] - 1s 85ms/step - loss: 0.0085\n",
            "Epoch 11/25\n",
            "17/17 [==============================] - 1s 85ms/step - loss: 0.0086\n",
            "Epoch 12/25\n",
            "17/17 [==============================] - 1s 85ms/step - loss: 0.0076\n",
            "Epoch 13/25\n",
            "17/17 [==============================] - 1s 86ms/step - loss: 0.0091\n",
            "Epoch 14/25\n",
            "17/17 [==============================] - 1s 84ms/step - loss: 0.0073\n",
            "Epoch 15/25\n",
            "17/17 [==============================] - 1s 84ms/step - loss: 0.0082\n",
            "Epoch 16/25\n",
            "17/17 [==============================] - 1s 85ms/step - loss: 0.0064\n",
            "Epoch 17/25\n",
            "17/17 [==============================] - 1s 84ms/step - loss: 0.0070\n",
            "Epoch 18/25\n",
            "17/17 [==============================] - 1s 83ms/step - loss: 0.0091\n",
            "Epoch 19/25\n",
            "17/17 [==============================] - 1s 84ms/step - loss: 0.0067\n",
            "Epoch 20/25\n",
            "17/17 [==============================] - 1s 85ms/step - loss: 0.0069\n",
            "Epoch 21/25\n",
            "17/17 [==============================] - 1s 84ms/step - loss: 0.0057\n",
            "Epoch 22/25\n",
            "17/17 [==============================] - 1s 84ms/step - loss: 0.0056\n",
            "Epoch 23/25\n",
            "17/17 [==============================] - 1s 86ms/step - loss: 0.0064\n",
            "Epoch 24/25\n",
            "17/17 [==============================] - 1s 88ms/step - loss: 0.0051\n",
            "Epoch 25/25\n",
            "17/17 [==============================] - 1s 84ms/step - loss: 0.0059\n"
          ],
          "name": "stdout"
        },
        {
          "output_type": "execute_result",
          "data": {
            "text/plain": [
              "<tensorflow.python.keras.callbacks.History at 0x7efbe2d9a3d0>"
            ]
          },
          "metadata": {
            "tags": []
          },
          "execution_count": 107
        }
      ]
    },
    {
      "cell_type": "code",
      "metadata": {
        "colab": {
          "base_uri": "https://localhost:8080/"
        },
        "id": "RMQtPZ86Zo5a",
        "outputId": "3039010f-a56d-4cee-c09e-8eb8f9ced268"
      },
      "source": [
        "dataset_train = Data.iloc[:800, 1:2]\n",
        "dataset_test = Data.iloc[800:, 1:2]\n",
        "dataset_total = pd.concat((dataset_train, dataset_test), axis = 0)\n",
        "inputs = dataset_total[len(dataset_total) - len(dataset_test) - 60:].values\n",
        "inputs = inputs.reshape(-1,1)\n",
        "inputs = sc.transform(inputs)\n",
        "X_test = []\n",
        "for i in range(60, 519):\n",
        "    X_test.append(inputs[i-60:i, 0])\n",
        "X_test = np.array(X_test)\n",
        "X_test = np.reshape(X_test, (X_test.shape[0], X_test.shape[1], 1))\n",
        "print(X_test.shape)"
      ],
      "execution_count": 108,
      "outputs": [
        {
          "output_type": "stream",
          "text": [
            "(459, 60, 1)\n"
          ],
          "name": "stdout"
        }
      ]
    },
    {
      "cell_type": "code",
      "metadata": {
        "id": "M9zUeNWdaemY"
      },
      "source": [
        "predicted_stock_price = model.predict(X_test)\n",
        "predicted_stock_price = sc.inverse_transform(predicted_stock_price)"
      ],
      "execution_count": 109,
      "outputs": []
    },
    {
      "cell_type": "code",
      "metadata": {
        "colab": {
          "base_uri": "https://localhost:8080/",
          "height": 295
        },
        "id": "F18MKxjValJD",
        "outputId": "f124aa4c-037e-4572-f083-fd504b8f9adf"
      },
      "source": [
        "plt.plot(Data.loc[800:, 'Date'],dataset_test.values, color = 'red', label = 'Real TESLA Stock Price')\n",
        "plt.plot(Data.loc[800:, 'Date'],predicted_stock_price, color = 'blue', label = 'Predicted TESLA Stock Price')\n",
        "plt.xticks(np.arange(0,459,50))\n",
        "plt.title('TESLA Stock Price Prediction')\n",
        "plt.xlabel('Time')\n",
        "plt.ylabel('TESLA Stock Price')\n",
        "plt.legend()\n",
        "plt.show()"
      ],
      "execution_count": 110,
      "outputs": [
        {
          "output_type": "display_data",
          "data": {
            "image/png": "[encoded data removed]",
            "text/plain": [
              "<Figure size 432x288 with 1 Axes>"
            ]
          },
          "metadata": {
            "tags": [],
            "needs_background": "light"
          }
        }
      ]
    }
  ]
}